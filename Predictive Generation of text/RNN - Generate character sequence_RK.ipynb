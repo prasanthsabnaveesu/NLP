{
 "cells": [
  {
   "cell_type": "code",
   "execution_count": 130,
   "metadata": {},
   "outputs": [],
   "source": [
    "import numpy\n",
    "from keras.models import Sequential\n",
    "from keras.layers import Dense\n",
    "from keras.layers import Dropout\n",
    "from keras.layers import LSTM\n",
    "from keras.callbacks import ModelCheckpoint\n",
    "from keras.utils import np_utils"
   ]
  },
  {
   "cell_type": "code",
   "execution_count": 2,
   "metadata": {
    "collapsed": true
   },
   "outputs": [],
   "source": [
    "raw_text = open('wonderland.txt').read()"
   ]
  },
  {
   "cell_type": "code",
   "execution_count": 6,
   "metadata": {},
   "outputs": [],
   "source": [
    "raw_text = raw_text.lower()"
   ]
  },
  {
   "cell_type": "code",
   "execution_count": 14,
   "metadata": {},
   "outputs": [],
   "source": [
    "chars = sorted(list(set(raw_text)))"
   ]
  },
  {
   "cell_type": "code",
   "execution_count": 40,
   "metadata": {},
   "outputs": [],
   "source": [
    "n_vocab = len(chars)"
   ]
  },
  {
   "cell_type": "code",
   "execution_count": 76,
   "metadata": {},
   "outputs": [
    {
     "data": {
      "text/plain": [
       "144410"
      ]
     },
     "execution_count": 76,
     "metadata": {},
     "output_type": "execute_result"
    }
   ],
   "source": [
    "n_chars = len(raw_text)\n",
    "n_chars"
   ]
  },
  {
   "cell_type": "code",
   "execution_count": 19,
   "metadata": {},
   "outputs": [],
   "source": [
    "char_to_int = dict((char,index) for index, char in enumerate(chars))\n"
   ]
  },
  {
   "cell_type": "code",
   "execution_count": 131,
   "metadata": {},
   "outputs": [],
   "source": [
    "seq_len = 100\n",
    "dataX = []\n",
    "dataY = []\n",
    "\n"
   ]
  },
  {
   "cell_type": "code",
   "execution_count": 132,
   "metadata": {},
   "outputs": [],
   "source": [
    "for i in range(0,n_chars-seq_len,1):\n",
    "    seq_in = raw_text[i:seq_len+i]\n",
    "    seq_out = raw_text[seq_len+i]\n",
    "    dataX.append([char_to_int[char] for char in seq_in])\n",
    "    dataY.append([char_to_int[char] for char in seq_out])"
   ]
  },
  {
   "cell_type": "code",
   "execution_count": 133,
   "metadata": {},
   "outputs": [],
   "source": [
    "n_patterns = len(dataX)"
   ]
  },
  {
   "cell_type": "code",
   "execution_count": 134,
   "metadata": {},
   "outputs": [
    {
     "data": {
      "text/plain": [
       "144310"
      ]
     },
     "execution_count": 134,
     "metadata": {},
     "output_type": "execute_result"
    }
   ],
   "source": [
    "n_patterns"
   ]
  },
  {
   "cell_type": "code",
   "execution_count": 135,
   "metadata": {},
   "outputs": [],
   "source": [
    "# reshape X to be [samples, time steps, features]\n",
    "X = numpy.reshape(dataX, (n_patterns, seq_len, 1))\n",
    "# normalize\n",
    "X = X / float(n_vocab)\n",
    "# one hot encode the output variable\n",
    "y = np_utils.to_categorical(dataY)"
   ]
  },
  {
   "cell_type": "code",
   "execution_count": 136,
   "metadata": {},
   "outputs": [
    {
     "data": {
      "text/plain": [
       "(144310, 45)"
      ]
     },
     "execution_count": 136,
     "metadata": {},
     "output_type": "execute_result"
    }
   ],
   "source": [
    "y.shape"
   ]
  },
  {
   "cell_type": "code",
   "execution_count": 137,
   "metadata": {
    "collapsed": true
   },
   "outputs": [],
   "source": [
    "model = Sequential()\n",
    "model.add(LSTM(256, input_shape=(X.shape[1], X.shape[2])))\n",
    "model.add(Dropout(0.2))\n",
    "model.add(Dense(y.shape[1], activation='softmax'))\n",
    "model.compile(loss='categorical_crossentropy', optimizer='adam')"
   ]
  },
  {
   "cell_type": "code",
   "execution_count": 139,
   "metadata": {},
   "outputs": [
    {
     "name": "stdout",
     "output_type": "stream",
     "text": [
      "Epoch 1/2\n",
      "144256/144310 [============================>.] - ETA: 0s - loss: 2.9517Epoch 00000: loss improved from inf to 2.95154, saving model to weights-improvement-00-2.9515.hdf5\n",
      "144310/144310 [==============================] - 2097s - loss: 2.9515  \n",
      "Epoch 2/2\n",
      "144256/144310 [============================>.] - ETA: 0s - loss: 2.7919Epoch 00001: loss improved from 2.95154 to 2.79185, saving model to weights-improvement-01-2.7919.hdf5\n",
      "144310/144310 [==============================] - 2239s - loss: 2.7919  \n"
     ]
    },
    {
     "data": {
      "text/plain": [
       "<keras.callbacks.History at 0x2283cfeceb8>"
      ]
     },
     "execution_count": 139,
     "metadata": {},
     "output_type": "execute_result"
    }
   ],
   "source": [
    "# define the checkpoint\n",
    "filepath=\"weights-improvement-{epoch:02d}-{loss:.4f}.hdf5\"\n",
    "checkpoint = ModelCheckpoint(filepath, monitor='loss', verbose=1, save_best_only=True, mode='min')\n",
    "callbacks_list = [checkpoint]\n",
    "# fit the model\n",
    "model.fit(X, y, epochs=2, batch_size=128, callbacks=callbacks_list)"
   ]
  },
  {
   "cell_type": "code",
   "execution_count": 140,
   "metadata": {
    "collapsed": true
   },
   "outputs": [],
   "source": [
    "# load weights from checkpoint\n",
    "filename = \"weights-improvement-01-2.7919.hdf5\"\n",
    "model.load_weights(filename)\n",
    "model.compile(loss='categorical_crossentropy', optimizer='adam')"
   ]
  },
  {
   "cell_type": "code",
   "execution_count": 148,
   "metadata": {
    "collapsed": true
   },
   "outputs": [],
   "source": [
    "# Give a seed input ( take it randomly from dataX pattern)\n",
    "pattern_idx = numpy.random.randint(0,len(dataX)-1)"
   ]
  },
  {
   "cell_type": "code",
   "execution_count": 149,
   "metadata": {},
   "outputs": [],
   "source": [
    "pattern = dataX[pattern_idx]"
   ]
  },
  {
   "cell_type": "code",
   "execution_count": 150,
   "metadata": {
    "collapsed": true
   },
   "outputs": [],
   "source": [
    "# Make a dictionary of int_to_char lookup\n",
    "int_to_char = dict((index,char) for index, char in enumerate(chars))\n"
   ]
  },
  {
   "cell_type": "code",
   "execution_count": 151,
   "metadata": {},
   "outputs": [
    {
     "name": "stdout",
     "output_type": "stream",
     "text": [
      "lf in a melancholy\n",
      "tone. 'nobody seems to like her, down here, and i'm sure she's the best\n",
      "cat in th\n"
     ]
    }
   ],
   "source": [
    "# look up the seed and convert to characters and print it out\n",
    "#print([int_to_char[i] for i in pattern])\n",
    "\n",
    "print (\"\".join([int_to_char[value] for value in pattern]))"
   ]
  },
  {
   "cell_type": "code",
   "execution_count": 145,
   "metadata": {},
   "outputs": [
    {
     "data": {
      "text/plain": [
       "100"
      ]
     },
     "execution_count": 145,
     "metadata": {},
     "output_type": "execute_result"
    }
   ],
   "source": [
    "# convert the input string to a numpy array to pass it on for LSTM prediction\n",
    "len(pattern)"
   ]
  },
  {
   "cell_type": "code",
   "execution_count": 146,
   "metadata": {},
   "outputs": [
    {
     "data": {
      "text/plain": [
       "[37,\n",
       " 38,\n",
       " 9,\n",
       " 9,\n",
       " 40,\n",
       " 23,\n",
       " 36,\n",
       " 22,\n",
       " 27,\n",
       " 21,\n",
       " 38,\n",
       " 1,\n",
       " 19,\n",
       " 24,\n",
       " 38,\n",
       " 23,\n",
       " 36,\n",
       " 41,\n",
       " 19,\n",
       " 36,\n",
       " 22,\n",
       " 37,\n",
       " 10,\n",
       " 4,\n",
       " 0,\n",
       " 0,\n",
       " 4,\n",
       " 37,\n",
       " 38,\n",
       " 39,\n",
       " 24,\n",
       " 24,\n",
       " 1,\n",
       " 19,\n",
       " 32,\n",
       " 22,\n",
       " 1,\n",
       " 32,\n",
       " 33,\n",
       " 32,\n",
       " 37,\n",
       " 23,\n",
       " 32,\n",
       " 37,\n",
       " 23,\n",
       " 2,\n",
       " 4,\n",
       " 1,\n",
       " 37,\n",
       " 19,\n",
       " 27,\n",
       " 22,\n",
       " 1,\n",
       " 19,\n",
       " 30,\n",
       " 27,\n",
       " 21,\n",
       " 23,\n",
       " 1,\n",
       " 30,\n",
       " 33,\n",
       " 39,\n",
       " 22,\n",
       " 30,\n",
       " 43,\n",
       " 10,\n",
       " 1,\n",
       " 4,\n",
       " 38,\n",
       " 26,\n",
       " 23,\n",
       " 1,\n",
       " 27,\n",
       " 22,\n",
       " 23,\n",
       " 19,\n",
       " 1,\n",
       " 33,\n",
       " 24,\n",
       " 1,\n",
       " 26,\n",
       " 19,\n",
       " 40,\n",
       " 27,\n",
       " 32,\n",
       " 25,\n",
       " 1,\n",
       " 38,\n",
       " 26,\n",
       " 23,\n",
       " 0,\n",
       " 37,\n",
       " 23,\n",
       " 32,\n",
       " 38,\n",
       " 23,\n",
       " 32,\n",
       " 21,\n",
       " 23,\n",
       " 1]"
      ]
     },
     "execution_count": 146,
     "metadata": {},
     "output_type": "execute_result"
    }
   ],
   "source": [
    "pattern"
   ]
  },
  {
   "cell_type": "code",
   "execution_count": 153,
   "metadata": {},
   "outputs": [
    {
     "name": "stdout",
     "output_type": "stream",
     "text": [
      "Seed:\n",
      "\" house opened, and a large plate came\n",
      "skimming out, straight at the footman's head: it just grazed hi \"\n",
      " the  and the  and toe  and toe  and toe  and toe  and toe  and toe  and toe  and toe  and toe  and toe  and toe  and toe  and toe  and toe  and toe  and toe  and toe  and toe  and toe  and toe  and toe  and toe  and toe  and toe  and toe  and toe  and toe  and toe  and toe  and toe  and toe  and toe  and toe  and toe  and toe  and toe  and toe  and toe  and toe  and toe  and toe  and toe  and toe  and toe  and toe  and toe  and toe  and toe  and toe  and toe  and toe  and toe  and toe  and toe  and toe  and toe  and toe  and toe  and toe  and toe  and toe  and toe  and toe  and toe  and toe  and toe  and toe  and toe  and toe  and toe  and toe  and toe  and toe  and toe  and toe  and toe  and toe  and toe  and toe  and toe  and toe  and toe  and toe  and toe  and toe  and toe  and toe  and toe  and toe  and toe  and toe  and toe  and toe  and toe  and toe  and toe  and toe  and toe  and toe  and toe  and toe  and toe  and toe  and toe  and toe  and toe  and toe  and toe  and toe  and \n",
      "Done.\n"
     ]
    }
   ],
   "source": [
    "# predict for next 1000 characters using model.predict and print it out\n",
    "    # use np.argmax to output the max predicted value from the output array\n",
    "import sys\n",
    "start = numpy.random.randint(0, len(dataX)-1)\n",
    "pattern = dataX[start]\n",
    "print (\"Seed:\")\n",
    "print (\"\\\"\", ''.join([int_to_char[value] for value in pattern]), \"\\\"\")\n",
    "for i in range(1000):\n",
    "    x = numpy.reshape(pattern, (1, len(pattern), 1))\n",
    "    x = x / float(n_vocab)\n",
    "    prediction = model.predict(x, verbose=0)\n",
    "    index = numpy.argmax(prediction)\n",
    "    result = int_to_char[index]\n",
    "    seq_in = [int_to_char[value] for value in pattern]\n",
    "    sys.stdout.write(result)\n",
    "    pattern.append(index)\n",
    "    pattern = pattern[1:len(pattern)]\n",
    "print( \"\\nDone.\")"
   ]
  }
 ],
 "metadata": {
  "kernelspec": {
   "display_name": "Python 3",
   "language": "python",
   "name": "python3"
  },
  "language_info": {
   "codemirror_mode": {
    "name": "ipython",
    "version": 3
   },
   "file_extension": ".py",
   "mimetype": "text/x-python",
   "name": "python",
   "nbconvert_exporter": "python",
   "pygments_lexer": "ipython3",
   "version": "3.6.1"
  }
 },
 "nbformat": 4,
 "nbformat_minor": 2
}
