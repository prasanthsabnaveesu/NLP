{
 "cells": [
  {
   "cell_type": "markdown",
   "metadata": {},
   "source": [
    "# Sentiment Analysis"
   ]
  },
  {
   "cell_type": "code",
   "execution_count": 1,
   "metadata": {},
   "outputs": [],
   "source": [
    "import tweepy           # To consume Twitter's API\n",
    "import pandas as pd     # To handle data\n",
    "import numpy as np      # For number computing"
   ]
  },
  {
   "cell_type": "code",
   "execution_count": 2,
   "metadata": {},
   "outputs": [],
   "source": [
    "# Twitter App access keys for @user\n",
    "\n",
    "# Consume:\n",
    "CONSUMER_KEY    = 'eSthnJY72D6y6DjPkn4UUUUGj'\n",
    "CONSUMER_SECRET = 'FzNOEPRnuLeQmIFsrxh14uFDHOa6av2AAUKqYtM2soB2ztOKz9'\n",
    "\n",
    "# Access:\n",
    "ACCESS_TOKEN  = '754476849447796736-j1obvclCx8darYTDOS4ZS7YG6q3gfUK'\n",
    "\n",
    "ACCESS_SECRET = 'EbF0BqO1wmaxdJLa6DdGobyTeedqX5pwurnnhk0i2XsPP'"
   ]
  },
  {
   "cell_type": "code",
   "execution_count": 3,
   "metadata": {},
   "outputs": [],
   "source": [
    "#from credentials import *    # This will allow us to use the keys as variables\n",
    "# API's setup:\n",
    "def twitter_setup():\n",
    "    \"\"\"\n",
    "    Utility function to setup the Twitter's API with our access\n",
    "     keys provided.\n",
    "    \"\"\"\n",
    "    # Authentication and access using keys:\n",
    "    auth = tweepy.OAuthHandler(CONSUMER_KEY, CONSUMER_SECRET)\n",
    "    auth.set_access_token(ACCESS_TOKEN, ACCESS_SECRET)\n",
    "    # Return API with authentication:\n",
    "    api = tweepy.API(auth)\n",
    "    return api"
   ]
  },
  {
   "cell_type": "code",
   "execution_count": 4,
   "metadata": {},
   "outputs": [
    {
     "name": "stdout",
     "output_type": "stream",
     "text": [
      "Number of tweets extracted: 200.\n",
      "\n",
      "5 recent tweets:\n",
      "\n",
      "The local US government of Dublin, Ohio will be issuing its official token using SLP, a protocol that uses the Bitc… https://t.co/ZJdDYiuQQ2\n",
      "\n",
      "RT @joshmgreen: Super cool!  #BitcoinVerde has been listed for the #BCH fundraiser.  Thanks @Bitcoin and https://t.co/MhOVlebB6Y.  100% of…\n",
      "\n",
      "RT @mikeinspace: https://t.co/iFXCit1jKs\n",
      "\n",
      "@crypt0snews @tipprbot The fact that BCH has a tokenization protocol (https://t.co/JSecbrBhED) and a scripting lang… https://t.co/d0fRCyGCE0\n",
      "\n",
      "RT @CoinSpice: Here's an audio clip (VOLUME UP) from our interview with @jeffreyatucker of the @aier on BTC maximalists and losing friendsh…\n",
      "\n"
     ]
    }
   ],
   "source": [
    "extractor = twitter_setup()\n",
    "\n",
    "# We create a tweet list as follows:\n",
    "tweets = extractor.user_timeline(screen_name=\"BitCoin\", count=200)\n",
    "print(\"Number of tweets extracted: {}.\\n\".format(len(tweets)))\n",
    "\n",
    "# We print the most recent 5 tweets:\n",
    "print(\"5 recent tweets:\\n\")\n",
    "for tweet in tweets[:5]:\n",
    "    print(tweet.text)\n",
    "    print()"
   ]
  },
  {
   "cell_type": "code",
   "execution_count": 9,
   "metadata": {},
   "outputs": [
    {
     "data": {
      "text/plain": [
       "Status(_api=<tweepy.api.API object at 0x0000001C55BCB940>, _json={'created_at': 'Fri Jun 28 03:56:50 +0000 2019', 'id': 1144454582619144192, 'id_str': '1144454582619144192', 'text': 'Canadian Bitcoiners rejoice! @coinberryio exchange launches #BCH trading! Trade today: https://t.co/Jqs0X09LyR… https://t.co/GPuJ8N2uRn', 'truncated': True, 'entities': {'hashtags': [{'text': 'BCH', 'indices': [60, 64]}], 'symbols': [], 'user_mentions': [{'screen_name': 'coinberryio', 'name': 'Coinberry 🍓', 'id': 892099023406067714, 'id_str': '892099023406067714', 'indices': [29, 41]}], 'urls': [{'url': 'https://t.co/Jqs0X09LyR', 'expanded_url': 'https://coinberry.io', 'display_url': 'coinberry.io', 'indices': [87, 110]}, {'url': 'https://t.co/GPuJ8N2uRn', 'expanded_url': 'https://twitter.com/i/web/status/1144454582619144192', 'display_url': 'twitter.com/i/web/status/1…', 'indices': [112, 135]}]}, 'source': '<a href=\"http://twitter.com\" rel=\"nofollow\">Twitter Web Client</a>', 'in_reply_to_status_id': None, 'in_reply_to_status_id_str': None, 'in_reply_to_user_id': None, 'in_reply_to_user_id_str': None, 'in_reply_to_screen_name': None, 'user': {'id': 357312062, 'id_str': '357312062', 'name': 'Bitcoin', 'screen_name': 'Bitcoin', 'location': 'Worldwide', 'description': 'Bitcoin is a Peer-to-Peer Electronic Cash System.', 'url': 'https://t.co/xghSkq73Ih', 'entities': {'url': {'urls': [{'url': 'https://t.co/xghSkq73Ih', 'expanded_url': 'https://bitcoin.com/bitcoin.pdf', 'display_url': 'bitcoin.com/bitcoin.pdf', 'indices': [0, 23]}]}, 'description': {'urls': []}}, 'protected': False, 'followers_count': 954457, 'friends_count': 244, 'listed_count': 7131, 'created_at': 'Thu Aug 18 05:06:08 +0000 2011', 'favourites_count': 2682, 'utc_offset': None, 'time_zone': None, 'geo_enabled': False, 'verified': False, 'statuses_count': 22157, 'lang': None, 'contributors_enabled': False, 'is_translator': False, 'is_translation_enabled': False, 'profile_background_color': '131516', 'profile_background_image_url': 'http://abs.twimg.com/images/themes/theme14/bg.gif', 'profile_background_image_url_https': 'https://abs.twimg.com/images/themes/theme14/bg.gif', 'profile_background_tile': True, 'profile_image_url': 'http://pbs.twimg.com/profile_images/421692600446619648/dWAbC2wg_normal.jpeg', 'profile_image_url_https': 'https://pbs.twimg.com/profile_images/421692600446619648/dWAbC2wg_normal.jpeg', 'profile_banner_url': 'https://pbs.twimg.com/profile_banners/357312062/1387548502', 'profile_link_color': '009999', 'profile_sidebar_border_color': 'EEEEEE', 'profile_sidebar_fill_color': 'EFEFEF', 'profile_text_color': '333333', 'profile_use_background_image': True, 'has_extended_profile': False, 'default_profile': False, 'default_profile_image': False, 'following': False, 'follow_request_sent': False, 'notifications': False, 'translator_type': 'regular'}, 'geo': None, 'coordinates': None, 'place': None, 'contributors': None, 'is_quote_status': False, 'retweet_count': 39, 'favorite_count': 89, 'favorited': False, 'retweeted': False, 'possibly_sensitive': False, 'lang': 'en'}, created_at=datetime.datetime(2019, 6, 28, 3, 56, 50), id=1144454582619144192, id_str='1144454582619144192', text='Canadian Bitcoiners rejoice! @coinberryio exchange launches #BCH trading! Trade today: https://t.co/Jqs0X09LyR… https://t.co/GPuJ8N2uRn', truncated=True, entities={'hashtags': [{'text': 'BCH', 'indices': [60, 64]}], 'symbols': [], 'user_mentions': [{'screen_name': 'coinberryio', 'name': 'Coinberry 🍓', 'id': 892099023406067714, 'id_str': '892099023406067714', 'indices': [29, 41]}], 'urls': [{'url': 'https://t.co/Jqs0X09LyR', 'expanded_url': 'https://coinberry.io', 'display_url': 'coinberry.io', 'indices': [87, 110]}, {'url': 'https://t.co/GPuJ8N2uRn', 'expanded_url': 'https://twitter.com/i/web/status/1144454582619144192', 'display_url': 'twitter.com/i/web/status/1…', 'indices': [112, 135]}]}, source='Twitter Web Client', source_url='http://twitter.com', in_reply_to_status_id=None, in_reply_to_status_id_str=None, in_reply_to_user_id=None, in_reply_to_user_id_str=None, in_reply_to_screen_name=None, author=User(_api=<tweepy.api.API object at 0x0000001C55BCB940>, _json={'id': 357312062, 'id_str': '357312062', 'name': 'Bitcoin', 'screen_name': 'Bitcoin', 'location': 'Worldwide', 'description': 'Bitcoin is a Peer-to-Peer Electronic Cash System.', 'url': 'https://t.co/xghSkq73Ih', 'entities': {'url': {'urls': [{'url': 'https://t.co/xghSkq73Ih', 'expanded_url': 'https://bitcoin.com/bitcoin.pdf', 'display_url': 'bitcoin.com/bitcoin.pdf', 'indices': [0, 23]}]}, 'description': {'urls': []}}, 'protected': False, 'followers_count': 954457, 'friends_count': 244, 'listed_count': 7131, 'created_at': 'Thu Aug 18 05:06:08 +0000 2011', 'favourites_count': 2682, 'utc_offset': None, 'time_zone': None, 'geo_enabled': False, 'verified': False, 'statuses_count': 22157, 'lang': None, 'contributors_enabled': False, 'is_translator': False, 'is_translation_enabled': False, 'profile_background_color': '131516', 'profile_background_image_url': 'http://abs.twimg.com/images/themes/theme14/bg.gif', 'profile_background_image_url_https': 'https://abs.twimg.com/images/themes/theme14/bg.gif', 'profile_background_tile': True, 'profile_image_url': 'http://pbs.twimg.com/profile_images/421692600446619648/dWAbC2wg_normal.jpeg', 'profile_image_url_https': 'https://pbs.twimg.com/profile_images/421692600446619648/dWAbC2wg_normal.jpeg', 'profile_banner_url': 'https://pbs.twimg.com/profile_banners/357312062/1387548502', 'profile_link_color': '009999', 'profile_sidebar_border_color': 'EEEEEE', 'profile_sidebar_fill_color': 'EFEFEF', 'profile_text_color': '333333', 'profile_use_background_image': True, 'has_extended_profile': False, 'default_profile': False, 'default_profile_image': False, 'following': False, 'follow_request_sent': False, 'notifications': False, 'translator_type': 'regular'}, id=357312062, id_str='357312062', name='Bitcoin', screen_name='Bitcoin', location='Worldwide', description='Bitcoin is a Peer-to-Peer Electronic Cash System.', url='https://t.co/xghSkq73Ih', entities={'url': {'urls': [{'url': 'https://t.co/xghSkq73Ih', 'expanded_url': 'https://bitcoin.com/bitcoin.pdf', 'display_url': 'bitcoin.com/bitcoin.pdf', 'indices': [0, 23]}]}, 'description': {'urls': []}}, protected=False, followers_count=954457, friends_count=244, listed_count=7131, created_at=datetime.datetime(2011, 8, 18, 5, 6, 8), favourites_count=2682, utc_offset=None, time_zone=None, geo_enabled=False, verified=False, statuses_count=22157, lang=None, contributors_enabled=False, is_translator=False, is_translation_enabled=False, profile_background_color='131516', profile_background_image_url='http://abs.twimg.com/images/themes/theme14/bg.gif', profile_background_image_url_https='https://abs.twimg.com/images/themes/theme14/bg.gif', profile_background_tile=True, profile_image_url='http://pbs.twimg.com/profile_images/421692600446619648/dWAbC2wg_normal.jpeg', profile_image_url_https='https://pbs.twimg.com/profile_images/421692600446619648/dWAbC2wg_normal.jpeg', profile_banner_url='https://pbs.twimg.com/profile_banners/357312062/1387548502', profile_link_color='009999', profile_sidebar_border_color='EEEEEE', profile_sidebar_fill_color='EFEFEF', profile_text_color='333333', profile_use_background_image=True, has_extended_profile=False, default_profile=False, default_profile_image=False, following=False, follow_request_sent=False, notifications=False, translator_type='regular'), user=User(_api=<tweepy.api.API object at 0x0000001C55BCB940>, _json={'id': 357312062, 'id_str': '357312062', 'name': 'Bitcoin', 'screen_name': 'Bitcoin', 'location': 'Worldwide', 'description': 'Bitcoin is a Peer-to-Peer Electronic Cash System.', 'url': 'https://t.co/xghSkq73Ih', 'entities': {'url': {'urls': [{'url': 'https://t.co/xghSkq73Ih', 'expanded_url': 'https://bitcoin.com/bitcoin.pdf', 'display_url': 'bitcoin.com/bitcoin.pdf', 'indices': [0, 23]}]}, 'description': {'urls': []}}, 'protected': False, 'followers_count': 954457, 'friends_count': 244, 'listed_count': 7131, 'created_at': 'Thu Aug 18 05:06:08 +0000 2011', 'favourites_count': 2682, 'utc_offset': None, 'time_zone': None, 'geo_enabled': False, 'verified': False, 'statuses_count': 22157, 'lang': None, 'contributors_enabled': False, 'is_translator': False, 'is_translation_enabled': False, 'profile_background_color': '131516', 'profile_background_image_url': 'http://abs.twimg.com/images/themes/theme14/bg.gif', 'profile_background_image_url_https': 'https://abs.twimg.com/images/themes/theme14/bg.gif', 'profile_background_tile': True, 'profile_image_url': 'http://pbs.twimg.com/profile_images/421692600446619648/dWAbC2wg_normal.jpeg', 'profile_image_url_https': 'https://pbs.twimg.com/profile_images/421692600446619648/dWAbC2wg_normal.jpeg', 'profile_banner_url': 'https://pbs.twimg.com/profile_banners/357312062/1387548502', 'profile_link_color': '009999', 'profile_sidebar_border_color': 'EEEEEE', 'profile_sidebar_fill_color': 'EFEFEF', 'profile_text_color': '333333', 'profile_use_background_image': True, 'has_extended_profile': False, 'default_profile': False, 'default_profile_image': False, 'following': False, 'follow_request_sent': False, 'notifications': False, 'translator_type': 'regular'}, id=357312062, id_str='357312062', name='Bitcoin', screen_name='Bitcoin', location='Worldwide', description='Bitcoin is a Peer-to-Peer Electronic Cash System.', url='https://t.co/xghSkq73Ih', entities={'url': {'urls': [{'url': 'https://t.co/xghSkq73Ih', 'expanded_url': 'https://bitcoin.com/bitcoin.pdf', 'display_url': 'bitcoin.com/bitcoin.pdf', 'indices': [0, 23]}]}, 'description': {'urls': []}}, protected=False, followers_count=954457, friends_count=244, listed_count=7131, created_at=datetime.datetime(2011, 8, 18, 5, 6, 8), favourites_count=2682, utc_offset=None, time_zone=None, geo_enabled=False, verified=False, statuses_count=22157, lang=None, contributors_enabled=False, is_translator=False, is_translation_enabled=False, profile_background_color='131516', profile_background_image_url='http://abs.twimg.com/images/themes/theme14/bg.gif', profile_background_image_url_https='https://abs.twimg.com/images/themes/theme14/bg.gif', profile_background_tile=True, profile_image_url='http://pbs.twimg.com/profile_images/421692600446619648/dWAbC2wg_normal.jpeg', profile_image_url_https='https://pbs.twimg.com/profile_images/421692600446619648/dWAbC2wg_normal.jpeg', profile_banner_url='https://pbs.twimg.com/profile_banners/357312062/1387548502', profile_link_color='009999', profile_sidebar_border_color='EEEEEE', profile_sidebar_fill_color='EFEFEF', profile_text_color='333333', profile_use_background_image=True, has_extended_profile=False, default_profile=False, default_profile_image=False, following=False, follow_request_sent=False, notifications=False, translator_type='regular'), geo=None, coordinates=None, place=None, contributors=None, is_quote_status=False, retweet_count=39, favorite_count=89, favorited=False, retweeted=False, possibly_sensitive=False, lang='en')"
      ]
     },
     "execution_count": 9,
     "metadata": {},
     "output_type": "execute_result"
    }
   ],
   "source": [
    "tweets[12]"
   ]
  },
  {
   "cell_type": "code",
   "execution_count": 11,
   "metadata": {},
   "outputs": [
    {
     "data": {
      "text/html": [
       "<div>\n",
       "<style scoped>\n",
       "    .dataframe tbody tr th:only-of-type {\n",
       "        vertical-align: middle;\n",
       "    }\n",
       "\n",
       "    .dataframe tbody tr th {\n",
       "        vertical-align: top;\n",
       "    }\n",
       "\n",
       "    .dataframe thead th {\n",
       "        text-align: right;\n",
       "    }\n",
       "</style>\n",
       "<table border=\"1\" class=\"dataframe\">\n",
       "  <thead>\n",
       "    <tr style=\"text-align: right;\">\n",
       "      <th></th>\n",
       "      <th>Tweets</th>\n",
       "    </tr>\n",
       "  </thead>\n",
       "  <tbody>\n",
       "    <tr>\n",
       "      <th>0</th>\n",
       "      <td>The local US government of Dublin, Ohio will b...</td>\n",
       "    </tr>\n",
       "    <tr>\n",
       "      <th>1</th>\n",
       "      <td>RT @joshmgreen: Super cool!  #BitcoinVerde has...</td>\n",
       "    </tr>\n",
       "    <tr>\n",
       "      <th>2</th>\n",
       "      <td>RT @mikeinspace: https://t.co/iFXCit1jKs</td>\n",
       "    </tr>\n",
       "    <tr>\n",
       "      <th>3</th>\n",
       "      <td>@crypt0snews @tipprbot The fact that BCH has a...</td>\n",
       "    </tr>\n",
       "    <tr>\n",
       "      <th>4</th>\n",
       "      <td>RT @CoinSpice: Here's an audio clip (VOLUME UP...</td>\n",
       "    </tr>\n",
       "    <tr>\n",
       "      <th>5</th>\n",
       "      <td>@crypt0snews @tipprbot Glad to connect! May I ...</td>\n",
       "    </tr>\n",
       "    <tr>\n",
       "      <th>6</th>\n",
       "      <td>@crypt0snews Try the original bitcoin instead....</td>\n",
       "    </tr>\n",
       "    <tr>\n",
       "      <th>7</th>\n",
       "      <td>RT @crypt0snews: Tried the Lightning Network. ...</td>\n",
       "    </tr>\n",
       "    <tr>\n",
       "      <th>8</th>\n",
       "      <td>@olarized It's worse than ever. Some people ar...</td>\n",
       "    </tr>\n",
       "    <tr>\n",
       "      <th>9</th>\n",
       "      <td>VIDEO: How a Bitcoin OG and Maximalist turned ...</td>\n",
       "    </tr>\n",
       "  </tbody>\n",
       "</table>\n",
       "</div>"
      ],
      "text/plain": [
       "                                              Tweets\n",
       "0  The local US government of Dublin, Ohio will b...\n",
       "1  RT @joshmgreen: Super cool!  #BitcoinVerde has...\n",
       "2           RT @mikeinspace: https://t.co/iFXCit1jKs\n",
       "3  @crypt0snews @tipprbot The fact that BCH has a...\n",
       "4  RT @CoinSpice: Here's an audio clip (VOLUME UP...\n",
       "5  @crypt0snews @tipprbot Glad to connect! May I ...\n",
       "6  @crypt0snews Try the original bitcoin instead....\n",
       "7  RT @crypt0snews: Tried the Lightning Network. ...\n",
       "8  @olarized It's worse than ever. Some people ar...\n",
       "9  VIDEO: How a Bitcoin OG and Maximalist turned ..."
      ]
     },
     "metadata": {},
     "output_type": "display_data"
    }
   ],
   "source": [
    "# We create a pandas dataframe as follows:\n",
    "data = pd.DataFrame(data=[tweet.text for tweet in tweets], columns=['Tweets'])\n",
    "\n",
    "# We display the first 10 elements of the dataframe:\n",
    "display(data.head(10))"
   ]
  },
  {
   "cell_type": "code",
   "execution_count": 13,
   "metadata": {},
   "outputs": [
    {
     "name": "stdout",
     "output_type": "stream",
     "text": [
      "219\n",
      "80\n"
     ]
    }
   ],
   "source": [
    "# We print info from the first tweet:\n",
    "print(tweets[0].favorite_count)\n",
    "print(tweets[0].retweet_count)"
   ]
  },
  {
   "cell_type": "code",
   "execution_count": 14,
   "metadata": {},
   "outputs": [],
   "source": [
    "# We add relevant data:\n",
    "data['len']  = np.array([len(tweet.text) for tweet in tweets])\n",
    "data['Likes']  = np.array([tweet.favorite_count for tweet in tweets])\n",
    "data['RTs']    = np.array([tweet.retweet_count for tweet in tweets])"
   ]
  },
  {
   "cell_type": "code",
   "execution_count": 15,
   "metadata": {},
   "outputs": [
    {
     "data": {
      "text/html": [
       "<div>\n",
       "<style scoped>\n",
       "    .dataframe tbody tr th:only-of-type {\n",
       "        vertical-align: middle;\n",
       "    }\n",
       "\n",
       "    .dataframe tbody tr th {\n",
       "        vertical-align: top;\n",
       "    }\n",
       "\n",
       "    .dataframe thead th {\n",
       "        text-align: right;\n",
       "    }\n",
       "</style>\n",
       "<table border=\"1\" class=\"dataframe\">\n",
       "  <thead>\n",
       "    <tr style=\"text-align: right;\">\n",
       "      <th></th>\n",
       "      <th>Tweets</th>\n",
       "      <th>len</th>\n",
       "      <th>Likes</th>\n",
       "      <th>RTs</th>\n",
       "    </tr>\n",
       "  </thead>\n",
       "  <tbody>\n",
       "    <tr>\n",
       "      <th>0</th>\n",
       "      <td>The local US government of Dublin, Ohio will b...</td>\n",
       "      <td>140</td>\n",
       "      <td>219</td>\n",
       "      <td>80</td>\n",
       "    </tr>\n",
       "    <tr>\n",
       "      <th>1</th>\n",
       "      <td>RT @joshmgreen: Super cool!  #BitcoinVerde has...</td>\n",
       "      <td>139</td>\n",
       "      <td>0</td>\n",
       "      <td>39</td>\n",
       "    </tr>\n",
       "    <tr>\n",
       "      <th>2</th>\n",
       "      <td>RT @mikeinspace: https://t.co/iFXCit1jKs</td>\n",
       "      <td>40</td>\n",
       "      <td>0</td>\n",
       "      <td>34</td>\n",
       "    </tr>\n",
       "    <tr>\n",
       "      <th>3</th>\n",
       "      <td>@crypt0snews @tipprbot The fact that BCH has a...</td>\n",
       "      <td>140</td>\n",
       "      <td>31</td>\n",
       "      <td>4</td>\n",
       "    </tr>\n",
       "    <tr>\n",
       "      <th>4</th>\n",
       "      <td>RT @CoinSpice: Here's an audio clip (VOLUME UP...</td>\n",
       "      <td>140</td>\n",
       "      <td>0</td>\n",
       "      <td>24</td>\n",
       "    </tr>\n",
       "    <tr>\n",
       "      <th>5</th>\n",
       "      <td>@crypt0snews @tipprbot Glad to connect! May I ...</td>\n",
       "      <td>91</td>\n",
       "      <td>14</td>\n",
       "      <td>1</td>\n",
       "    </tr>\n",
       "    <tr>\n",
       "      <th>6</th>\n",
       "      <td>@crypt0snews Try the original bitcoin instead....</td>\n",
       "      <td>83</td>\n",
       "      <td>19</td>\n",
       "      <td>2</td>\n",
       "    </tr>\n",
       "    <tr>\n",
       "      <th>7</th>\n",
       "      <td>RT @crypt0snews: Tried the Lightning Network. ...</td>\n",
       "      <td>139</td>\n",
       "      <td>0</td>\n",
       "      <td>126</td>\n",
       "    </tr>\n",
       "    <tr>\n",
       "      <th>8</th>\n",
       "      <td>@olarized It's worse than ever. Some people ar...</td>\n",
       "      <td>140</td>\n",
       "      <td>1</td>\n",
       "      <td>0</td>\n",
       "    </tr>\n",
       "    <tr>\n",
       "      <th>9</th>\n",
       "      <td>VIDEO: How a Bitcoin OG and Maximalist turned ...</td>\n",
       "      <td>125</td>\n",
       "      <td>88</td>\n",
       "      <td>17</td>\n",
       "    </tr>\n",
       "  </tbody>\n",
       "</table>\n",
       "</div>"
      ],
      "text/plain": [
       "                                              Tweets  len  Likes  RTs\n",
       "0  The local US government of Dublin, Ohio will b...  140    219   80\n",
       "1  RT @joshmgreen: Super cool!  #BitcoinVerde has...  139      0   39\n",
       "2           RT @mikeinspace: https://t.co/iFXCit1jKs   40      0   34\n",
       "3  @crypt0snews @tipprbot The fact that BCH has a...  140     31    4\n",
       "4  RT @CoinSpice: Here's an audio clip (VOLUME UP...  140      0   24\n",
       "5  @crypt0snews @tipprbot Glad to connect! May I ...   91     14    1\n",
       "6  @crypt0snews Try the original bitcoin instead....   83     19    2\n",
       "7  RT @crypt0snews: Tried the Lightning Network. ...  139      0  126\n",
       "8  @olarized It's worse than ever. Some people ar...  140      1    0\n",
       "9  VIDEO: How a Bitcoin OG and Maximalist turned ...  125     88   17"
      ]
     },
     "metadata": {},
     "output_type": "display_data"
    }
   ],
   "source": [
    "display(data.head(10))"
   ]
  },
  {
   "cell_type": "code",
   "execution_count": 19,
   "metadata": {},
   "outputs": [],
   "source": [
    "from textblob import TextBlob"
   ]
  },
  {
   "cell_type": "code",
   "execution_count": 33,
   "metadata": {},
   "outputs": [
    {
     "name": "stdout",
     "output_type": "stream",
     "text": [
      "Sentiment Score:  1.0\n",
      "Sentiment Score:  -0.35\n"
     ]
    }
   ],
   "source": [
    "from textblob import TextBlob\n",
    "statement = \"Today I went to Barbeque Nation and the Food was awesome\"\n",
    "sent = TextBlob(statement)\n",
    "print(\"Sentiment Score: \", sent.sentiment.polarity)  # Result = 1.0\n",
    " \n",
    "statement2 = \"Today I went to Barbeque Nation and the Food was not much good \"\n",
    "sent2 = TextBlob(statement2)\n",
    "print(\"Sentiment Score: \", sent2.sentiment.polarity) # Result = 0.909999"
   ]
  },
  {
   "cell_type": "code",
   "execution_count": 21,
   "metadata": {},
   "outputs": [],
   "source": [
    "from textblob import TextBlob\n",
    "import re\n",
    "\n",
    "def clean_tweet(tweet):\n",
    "    '''\n",
    "    Utility function to clean the text in a tweet by removing \n",
    "    links and special characters using regex.\n",
    "    '''\n",
    "    return ' '.join(re.sub(\"(@[A-Za-z0-9]+)|([^0-9A-Za-z \\t])|(\\w+:\\/\\/\\S+)\", \" \", tweet).split())\n",
    "\n",
    "def analize_sentiment(tweet):\n",
    "    '''\n",
    "    Utility function to classify the polarity of a tweet\n",
    "    using textblob.\n",
    "    '''\n",
    "    analysis = TextBlob(clean_tweet(tweet))\n",
    "    if analysis.sentiment.polarity > 0: \n",
    "        return 1\n",
    "    elif analysis.sentiment.polarity == 0:\n",
    "        return 0\n",
    "    else:\n",
    "        return -1"
   ]
  },
  {
   "cell_type": "code",
   "execution_count": 22,
   "metadata": {},
   "outputs": [
    {
     "data": {
      "text/html": [
       "<div>\n",
       "<style scoped>\n",
       "    .dataframe tbody tr th:only-of-type {\n",
       "        vertical-align: middle;\n",
       "    }\n",
       "\n",
       "    .dataframe tbody tr th {\n",
       "        vertical-align: top;\n",
       "    }\n",
       "\n",
       "    .dataframe thead th {\n",
       "        text-align: right;\n",
       "    }\n",
       "</style>\n",
       "<table border=\"1\" class=\"dataframe\">\n",
       "  <thead>\n",
       "    <tr style=\"text-align: right;\">\n",
       "      <th></th>\n",
       "      <th>Tweets</th>\n",
       "      <th>len</th>\n",
       "      <th>Likes</th>\n",
       "      <th>RTs</th>\n",
       "      <th>SA</th>\n",
       "    </tr>\n",
       "  </thead>\n",
       "  <tbody>\n",
       "    <tr>\n",
       "      <th>0</th>\n",
       "      <td>The local US government of Dublin, Ohio will b...</td>\n",
       "      <td>140</td>\n",
       "      <td>219</td>\n",
       "      <td>80</td>\n",
       "      <td>0</td>\n",
       "    </tr>\n",
       "    <tr>\n",
       "      <th>1</th>\n",
       "      <td>RT @joshmgreen: Super cool!  #BitcoinVerde has...</td>\n",
       "      <td>139</td>\n",
       "      <td>0</td>\n",
       "      <td>39</td>\n",
       "      <td>1</td>\n",
       "    </tr>\n",
       "    <tr>\n",
       "      <th>2</th>\n",
       "      <td>RT @mikeinspace: https://t.co/iFXCit1jKs</td>\n",
       "      <td>40</td>\n",
       "      <td>0</td>\n",
       "      <td>34</td>\n",
       "      <td>0</td>\n",
       "    </tr>\n",
       "    <tr>\n",
       "      <th>3</th>\n",
       "      <td>@crypt0snews @tipprbot The fact that BCH has a...</td>\n",
       "      <td>140</td>\n",
       "      <td>31</td>\n",
       "      <td>4</td>\n",
       "      <td>0</td>\n",
       "    </tr>\n",
       "    <tr>\n",
       "      <th>4</th>\n",
       "      <td>RT @CoinSpice: Here's an audio clip (VOLUME UP...</td>\n",
       "      <td>140</td>\n",
       "      <td>0</td>\n",
       "      <td>24</td>\n",
       "      <td>0</td>\n",
       "    </tr>\n",
       "    <tr>\n",
       "      <th>5</th>\n",
       "      <td>@crypt0snews @tipprbot Glad to connect! May I ...</td>\n",
       "      <td>91</td>\n",
       "      <td>14</td>\n",
       "      <td>1</td>\n",
       "      <td>1</td>\n",
       "    </tr>\n",
       "    <tr>\n",
       "      <th>6</th>\n",
       "      <td>@crypt0snews Try the original bitcoin instead....</td>\n",
       "      <td>83</td>\n",
       "      <td>19</td>\n",
       "      <td>2</td>\n",
       "      <td>1</td>\n",
       "    </tr>\n",
       "    <tr>\n",
       "      <th>7</th>\n",
       "      <td>RT @crypt0snews: Tried the Lightning Network. ...</td>\n",
       "      <td>139</td>\n",
       "      <td>0</td>\n",
       "      <td>126</td>\n",
       "      <td>1</td>\n",
       "    </tr>\n",
       "    <tr>\n",
       "      <th>8</th>\n",
       "      <td>@olarized It's worse than ever. Some people ar...</td>\n",
       "      <td>140</td>\n",
       "      <td>1</td>\n",
       "      <td>0</td>\n",
       "      <td>-1</td>\n",
       "    </tr>\n",
       "    <tr>\n",
       "      <th>9</th>\n",
       "      <td>VIDEO: How a Bitcoin OG and Maximalist turned ...</td>\n",
       "      <td>125</td>\n",
       "      <td>88</td>\n",
       "      <td>17</td>\n",
       "      <td>0</td>\n",
       "    </tr>\n",
       "  </tbody>\n",
       "</table>\n",
       "</div>"
      ],
      "text/plain": [
       "                                              Tweets  len  Likes  RTs  SA\n",
       "0  The local US government of Dublin, Ohio will b...  140    219   80   0\n",
       "1  RT @joshmgreen: Super cool!  #BitcoinVerde has...  139      0   39   1\n",
       "2           RT @mikeinspace: https://t.co/iFXCit1jKs   40      0   34   0\n",
       "3  @crypt0snews @tipprbot The fact that BCH has a...  140     31    4   0\n",
       "4  RT @CoinSpice: Here's an audio clip (VOLUME UP...  140      0   24   0\n",
       "5  @crypt0snews @tipprbot Glad to connect! May I ...   91     14    1   1\n",
       "6  @crypt0snews Try the original bitcoin instead....   83     19    2   1\n",
       "7  RT @crypt0snews: Tried the Lightning Network. ...  139      0  126   1\n",
       "8  @olarized It's worse than ever. Some people ar...  140      1    0  -1\n",
       "9  VIDEO: How a Bitcoin OG and Maximalist turned ...  125     88   17   0"
      ]
     },
     "metadata": {},
     "output_type": "display_data"
    }
   ],
   "source": [
    "# We create a column with the result of the analysis:\n",
    "data['SA'] = np.array([ analize_sentiment(tweet) for tweet in data['Tweets'] ])\n",
    "\n",
    "# We display the updated dataframe with the new column:\n",
    "display(data.head(10))         "
   ]
  },
  {
   "cell_type": "code",
   "execution_count": 23,
   "metadata": {},
   "outputs": [],
   "source": [
    "pos_tweets = [ tweet for index, tweet in enumerate(data['Tweets']) if data['SA'][index] > 0]\n",
    "neu_tweets = [ tweet for index, tweet in enumerate(data['Tweets']) if data['SA'][index] == 0]\n",
    "neg_tweets = [ tweet for index, tweet in enumerate(data['Tweets']) if data['SA'][index] < 0]"
   ]
  },
  {
   "cell_type": "code",
   "execution_count": 24,
   "metadata": {},
   "outputs": [
    {
     "name": "stdout",
     "output_type": "stream",
     "text": [
      "[\"@olarized It's worse than ever. Some people are reporting they can't even find this account in their search results. https://t.co/Yw1KhY5Nc7\", 'RT @ryan_research: Data Download:\\n\\nA fundamental measure of crypto is internal blockchain activity. It can be measured by a few metrics, li…', '@moonwhiz BCH could process 10x the number of transactions BTC does daily and the fees would still be less than a penny.', 'Join the BCH Sydney meetup! 7pm tomorrow (June 26th) at Spawn Point Small Bar\\n\\nhttps://t.co/JecOkOw0VF', 'Not to rain on the parade, but as the price of $BTC increases, so do the number of transactions, which is increasin… https://t.co/5dDcW1SlbK', 'RT @BrendanEich: BCH and other funding choices coming in @Brave 0.68 (following up on https://t.co/XSSkZh1o2B). https://t.co/KtZ6VwdVA2', \"RT @DavidShares: Finally getting around to downloading and using @Brave! It's really cool, but now I'm highly disappointed that I can't fun…\", 'RT @AdrianBarwicki: Instead of just accumulating empty ‘likes’ here you can actually get rewarded for writing quality content. You will aut…', 'Unfortunate to see another Bitcoin payments product bite the dust 🙁 https://t.co/1FtKOYJpPc', \"@CryptoBu77 The idea behind @CoinText is that you don't even need a smartphone to have a crypto wallet. Even people… https://t.co/OhoSDQcKfP\", 'Anyone know why the number of #LightningNetwork channels keeps falling? Is it forced channel closures due to rising… https://t.co/qd9XwEItf1', '2019/06/03 Average Fee Update\\n\\nBTC: $5.781 \\nBCH: $0.0059\\n\\nBTC fees seem to be getting out of hand again 😟\\n\\nSource:… https://t.co/ekgs9yLKWn', 'Coinbase takes a deep look at the recent Bitcoin Cash hard fork incident:\\n\\nhttps://t.co/3BkLMYGeiM', 'RT @SandorReport: Not a huge @rogerkver fan and never really used $BCH. But he wiped up the floor with @ToneVays in Malta, and even if you…', '2019/05/26 Average Fee Update\\n\\nBTC: $2.078\\nBCH: $0.0054\\n\\nIt is currently 384 times more expensive to transact with… https://t.co/3s5SQvx2fm', '@BitcoinB_ILL @Amiblocked1 Which merchants are accepting XRP and NANO?', '2019/05/21 Average Fee Update\\n\\nBTC: $4.222\\nBCH: $0.0059\\n\\nIt is currently 715 times more expensive to transact with… https://t.co/gisKS51WwJ', \"@drtitus @tjm313 @Excellion @maxkeiser With average BTC fees today sitting at $4.22, BTC cannot be used by half the world's population.\", '@vapeatl @Excellion I agree, Samson should stop confusing people about Bitcoin.', 'Samson and Blockstream clearly do not believe that Bitcoin can be global money.\\n\\n#SamsonsGreatestHits @Excellion… https://t.co/umJH9u6PBL', '@nanillionaire @CrewFX The average US person earns $500,000 a month?', 'RT @MarkLundeberg: A Schnorr-signed transaction. Was it a secret payment channel closure? Did hundred parties sign to make it happen? Did a…', 'May 16th, 2019:\\n\\nAverage BTC fee: $4.871\\nAverage BCH fee: $0.0076\\n\\nhttps://t.co/GbvN8nKyK6', 'RT @jordan_mack: 1. #Bitcoin is directly on course for crippling network bottlenecks and insane transaction fees. #SegWit did not fix the p…', 'RT @bchaustralia: The #BitcoinCash price begins to surge as resistance at $410 USD is broken. $BCH is currently up over 50% from recent low…', 'BTC average transaction fees have reached a new 6-month high of $2.886\\n\\nBCH average transaction fees remain stable… https://t.co/Hk8q14h4Mb', 'RT @UpholdInc: Service Update: We are experiencing temporary delays depositing and withdrawing $BTC due to network congestion. We apologize…', 'Bloomberg: Fidelity Will Offer Cryptocurrency Trading Within a Few Weeks\\n\\nhttps://t.co/WIA3mjSEt3', \"RT @BitcoinCashA: It's #ShuffleSaturday and it's always less than one cent to shuffle #BitcoinCash because privacy is for everyone!  Get st…\"]\n"
     ]
    }
   ],
   "source": [
    "#print((pos_tweets))\n",
    "print((neg_tweets))"
   ]
  },
  {
   "cell_type": "code",
   "execution_count": 25,
   "metadata": {},
   "outputs": [
    {
     "name": "stdout",
     "output_type": "stream",
     "text": [
      "Percentage of positive tweets: 30.0%\n",
      "Percentage of neutral tweets: 55.5%\n",
      "Percentage de negative tweets: 14.5%\n"
     ]
    }
   ],
   "source": [
    "# We print percentages:\n",
    "\n",
    "print(\"Percentage of positive tweets: {}%\".format(len(pos_tweets)*100/len(data['Tweets'])))\n",
    "print(\"Percentage of neutral tweets: {}%\".format(len(neu_tweets)*100/len(data['Tweets'])))\n",
    "print(\"Percentage de negative tweets: {}%\".format(len(neg_tweets)*100/len(data['Tweets'])))"
   ]
  }
 ],
 "metadata": {
  "anaconda-cloud": {},
  "kernelspec": {
   "display_name": "Python 3",
   "language": "python",
   "name": "python3"
  },
  "language_info": {
   "codemirror_mode": {
    "name": "ipython",
    "version": 3
   },
   "file_extension": ".py",
   "mimetype": "text/x-python",
   "name": "python",
   "nbconvert_exporter": "python",
   "pygments_lexer": "ipython3",
   "version": "3.7.3"
  }
 },
 "nbformat": 4,
 "nbformat_minor": 1
}
