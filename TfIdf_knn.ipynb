{
 "cells": [
  {
   "cell_type": "code",
   "execution_count": 1,
   "metadata": {},
   "outputs": [
    {
     "name": "stdout",
     "output_type": "stream",
     "text": [
      "['Time flies like an arrow', 'Fruit flies like a banana,', 'Sam sat on the cat ', 'The cat is white.']\n"
     ]
    }
   ],
   "source": [
    "from time import time\n",
    "from sklearn.feature_extraction.text import TfidfVectorizer\n",
    "\n",
    "data = '''Time flies like an arrow\n",
    "Fruit flies like a banana,\n",
    "Sam sat on the cat \n",
    "The cat is white.'''\n",
    "\n",
    "t0 = time()\n",
    "dataset = data.split('\\n')\n",
    "print(dataset)"
   ]
  },
  {
   "cell_type": "code",
   "execution_count": 2,
   "metadata": {},
   "outputs": [
    {
     "name": "stdout",
     "output_type": "stream",
     "text": [
      "Extracting tf-idf features...\n",
      "done in 0.004s.\n"
     ]
    }
   ],
   "source": [
    "#Get TF-IDFs.\n",
    "print(\"Extracting tf-idf features...\")\n",
    "#First we initiate an empty tfidf object with specific conditions\n",
    "tfidf_vectorizer = TfidfVectorizer(ngram_range=(1,3))#max_df=0.95, min_df=2, stop_words='english' #USE HELP TO SEE WHAT EACH DOES)\n",
    "t0 = time()\n",
    "#Next we give the data for processing\n",
    "tfidf = tfidf_vectorizer.fit_transform(dataset)\n",
    "print(\"done in %0.3fs.\" % (time() - t0))\n",
    "# print(tfidf)"
   ]
  },
  {
   "cell_type": "code",
   "execution_count": 6,
   "metadata": {},
   "outputs": [
    {
     "name": "stdout",
     "output_type": "stream",
     "text": [
      "  (0, 32)\t0.303381833239\n",
      "  (0, 7)\t0.239189722008\n",
      "  (0, 16)\t0.239189722008\n",
      "  (0, 0)\t0.303381833239\n",
      "  (0, 2)\t0.303381833239\n",
      "  (0, 33)\t0.303381833239\n",
      "  (0, 8)\t0.239189722008\n",
      "  (0, 17)\t0.303381833239\n",
      "  (0, 1)\t0.303381833239\n",
      "  (0, 34)\t0.303381833239\n",
      "  (0, 9)\t0.303381833239\n",
      "  (0, 18)\t0.303381833239\n",
      "  (1, 7)\t0.281131628441\n",
      "  (1, 16)\t0.281131628441\n",
      "  (1, 8)\t0.281131628441\n",
      "  (1, 11)\t0.356579823338\n",
      "  (1, 3)\t0.356579823338\n",
      "  (1, 12)\t0.356579823338\n",
      "  (1, 19)\t0.356579823338\n",
      "  (1, 13)\t0.356579823338\n",
      "  (1, 10)\t0.356579823338\n",
      "  (2, 23)\t0.303381833239\n",
      "  (2, 26)\t0.303381833239\n",
      "  (2, 20)\t0.303381833239\n",
      "  (2, 29)\t0.239189722008\n",
      "  (2, 4)\t0.239189722008\n",
      "  (2, 24)\t0.303381833239\n",
      "  (2, 27)\t0.303381833239\n",
      "  (2, 21)\t0.303381833239\n",
      "  (2, 30)\t0.239189722008\n",
      "  (2, 25)\t0.303381833239\n",
      "  (2, 28)\t0.303381833239\n",
      "  (2, 22)\t0.303381833239\n",
      "  (3, 29)\t0.281131628441\n",
      "  (3, 4)\t0.281131628441\n",
      "  (3, 30)\t0.281131628441\n",
      "  (3, 14)\t0.356579823338\n",
      "  (3, 35)\t0.356579823338\n",
      "  (3, 5)\t0.356579823338\n",
      "  (3, 15)\t0.356579823338\n",
      "  (3, 31)\t0.356579823338\n",
      "  (3, 6)\t0.356579823338\n"
     ]
    }
   ],
   "source": [
    "print(tfidf)"
   ]
  },
  {
   "cell_type": "code",
   "execution_count": 15,
   "metadata": {},
   "outputs": [
    {
     "name": "stdout",
     "output_type": "stream",
     "text": [
      "[[ 0.30338183  0.30338183  0.30338183  0.          0.          0.          0.\n",
      "   0.23918972  0.23918972  0.30338183  0.          0.          0.          0.\n",
      "   0.          0.          0.23918972  0.30338183  0.30338183  0.          0.\n",
      "   0.          0.          0.          0.          0.          0.          0.\n",
      "   0.          0.          0.          0.          0.30338183  0.30338183\n",
      "   0.30338183  0.        ]\n",
      " [ 0.          0.          0.          0.35657982  0.          0.          0.\n",
      "   0.28113163  0.28113163  0.          0.35657982  0.35657982  0.35657982\n",
      "   0.35657982  0.          0.          0.28113163  0.          0.\n",
      "   0.35657982  0.          0.          0.          0.          0.          0.\n",
      "   0.          0.          0.          0.          0.          0.          0.\n",
      "   0.          0.          0.        ]\n",
      " [ 0.          0.          0.          0.          0.23918972  0.          0.\n",
      "   0.          0.          0.          0.          0.          0.          0.\n",
      "   0.          0.          0.          0.          0.          0.\n",
      "   0.30338183  0.30338183  0.30338183  0.30338183  0.30338183  0.30338183\n",
      "   0.30338183  0.30338183  0.30338183  0.23918972  0.23918972  0.          0.\n",
      "   0.          0.          0.        ]\n",
      " [ 0.          0.          0.          0.          0.28113163  0.35657982\n",
      "   0.35657982  0.          0.          0.          0.          0.          0.\n",
      "   0.          0.35657982  0.35657982  0.          0.          0.          0.\n",
      "   0.          0.          0.          0.          0.          0.          0.\n",
      "   0.          0.          0.28113163  0.28113163  0.35657982  0.          0.\n",
      "   0.          0.35657982]]\n"
     ]
    }
   ],
   "source": [
    "dense = tfidf.todense()\n",
    "dense.shape\n",
    "print(dense)"
   ]
  },
  {
   "cell_type": "code",
   "execution_count": 16,
   "metadata": {},
   "outputs": [
    {
     "name": "stdout",
     "output_type": "stream",
     "text": [
      "['an', 'an arrow', 'arrow', 'banana', 'cat', 'cat is', 'cat is white', 'flies', 'flies like', 'flies like an', 'flies like banana', 'fruit', 'fruit flies', 'fruit flies like', 'is', 'is white', 'like', 'like an', 'like an arrow', 'like banana', 'on', 'on the', 'on the cat', 'sam', 'sam sat', 'sam sat on', 'sat', 'sat on', 'sat on the', 'the', 'the cat', 'the cat is', 'time', 'time flies', 'time flies like', 'white']\n",
      "['Time flies like an arrow', 'Fruit flies like a banana,', 'Sam sat on the cat', 'The cat is white.']\n",
      "['fruit flies like', 'is', 'is white', 'like', 'like an', 'like an arrow', 'like banana']\n"
     ]
    }
   ],
   "source": [
    "feature_names = tfidf_vectorizer.get_feature_names()\n",
    "print((feature_names))\n",
    "print(dataset)\n",
    "print(feature_names[13:20])"
   ]
  },
  {
   "cell_type": "markdown",
   "metadata": {},
   "source": [
    "### Doc ranking\n",
    "\n",
    "Given a new query, how to find out which document is it closest to?"
   ]
  },
  {
   "cell_type": "code",
   "execution_count": 22,
   "metadata": {
    "collapsed": true
   },
   "outputs": [],
   "source": [
    "new = 'Time flies like Sam'\n",
    "response = tfidf_vectorizer.transform([new])"
   ]
  },
  {
   "cell_type": "markdown",
   "metadata": {},
   "source": [
    "##### We could also use KNN for finding the closest document. \n",
    "(In this case it seems a stretch to call KNN on four data points, but the idea is to introduce the syntax for how to run a machine learning algorithm in python)"
   ]
  },
  {
   "cell_type": "code",
   "execution_count": 25,
   "metadata": {},
   "outputs": [
    {
     "data": {
      "text/plain": [
       "array([1])"
      ]
     },
     "execution_count": 25,
     "metadata": {},
     "output_type": "execute_result"
    }
   ],
   "source": [
    "#This is how an ML algorithm is instantiated.\n",
    "from sklearn.neighbors import KNeighborsClassifier  \n",
    "model = KNeighborsClassifier(n_neighbors=1, algorithm='brute')\n",
    "#This is how any ML algorithm is trained.\n",
    "model.fit(dense, [1,2,3,4])\n",
    "#This is how such an ML algorithm is used for prediction\n",
    "model.predict(response)"
   ]
  },
  {
   "cell_type": "code",
   "execution_count": 7,
   "metadata": {},
   "outputs": [
    {
     "data": {
      "text/plain": [
       "matrix([[ 0.30338183,  0.30338183,  0.30338183,  0.        ,  0.        ,\n",
       "          0.        ,  0.        ,  0.23918972,  0.23918972,  0.30338183,\n",
       "          0.        ,  0.        ,  0.        ,  0.        ,  0.        ,\n",
       "          0.        ,  0.23918972,  0.30338183,  0.30338183,  0.        ,\n",
       "          0.        ,  0.        ,  0.        ,  0.        ,  0.        ,\n",
       "          0.        ,  0.        ,  0.        ,  0.        ,  0.        ,\n",
       "          0.        ,  0.        ,  0.30338183,  0.30338183,  0.30338183,\n",
       "          0.        ],\n",
       "        [ 0.        ,  0.        ,  0.        ,  0.35657982,  0.        ,\n",
       "          0.        ,  0.        ,  0.28113163,  0.28113163,  0.        ,\n",
       "          0.35657982,  0.35657982,  0.35657982,  0.35657982,  0.        ,\n",
       "          0.        ,  0.28113163,  0.        ,  0.        ,  0.35657982,\n",
       "          0.        ,  0.        ,  0.        ,  0.        ,  0.        ,\n",
       "          0.        ,  0.        ,  0.        ,  0.        ,  0.        ,\n",
       "          0.        ,  0.        ,  0.        ,  0.        ,  0.        ,\n",
       "          0.        ],\n",
       "        [ 0.        ,  0.        ,  0.        ,  0.        ,  0.23918972,\n",
       "          0.        ,  0.        ,  0.        ,  0.        ,  0.        ,\n",
       "          0.        ,  0.        ,  0.        ,  0.        ,  0.        ,\n",
       "          0.        ,  0.        ,  0.        ,  0.        ,  0.        ,\n",
       "          0.30338183,  0.30338183,  0.30338183,  0.30338183,  0.30338183,\n",
       "          0.30338183,  0.30338183,  0.30338183,  0.30338183,  0.23918972,\n",
       "          0.23918972,  0.        ,  0.        ,  0.        ,  0.        ,\n",
       "          0.        ],\n",
       "        [ 0.        ,  0.        ,  0.        ,  0.        ,  0.28113163,\n",
       "          0.35657982,  0.35657982,  0.        ,  0.        ,  0.        ,\n",
       "          0.        ,  0.        ,  0.        ,  0.        ,  0.35657982,\n",
       "          0.35657982,  0.        ,  0.        ,  0.        ,  0.        ,\n",
       "          0.        ,  0.        ,  0.        ,  0.        ,  0.        ,\n",
       "          0.        ,  0.        ,  0.        ,  0.        ,  0.28113163,\n",
       "          0.28113163,  0.35657982,  0.        ,  0.        ,  0.        ,\n",
       "          0.35657982]])"
      ]
     },
     "execution_count": 7,
     "metadata": {},
     "output_type": "execute_result"
    }
   ],
   "source": [
    "dense"
   ]
  }
 ],
 "metadata": {
  "anaconda-cloud": {},
  "kernelspec": {
   "display_name": "Python 3",
   "language": "python",
   "name": "python3"
  },
  "language_info": {
   "codemirror_mode": {
    "name": "ipython",
    "version": 3
   },
   "file_extension": ".py",
   "mimetype": "text/x-python",
   "name": "python",
   "nbconvert_exporter": "python",
   "pygments_lexer": "ipython3",
   "version": "3.7.8"
  }
 },
 "nbformat": 4,
 "nbformat_minor": 1
}
